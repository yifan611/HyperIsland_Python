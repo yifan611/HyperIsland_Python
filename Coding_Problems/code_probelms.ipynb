{
 "cells": [
  {
   "cell_type": "markdown",
   "metadata": {},
   "source": [
    "**<font size=6>Week3 - Coding Problems</font>**"
   ]
  },
  {
   "cell_type": "code",
   "execution_count": 1,
   "metadata": {},
   "outputs": [],
   "source": [
    "import pandas as pd"
   ]
  },
  {
   "cell_type": "markdown",
   "metadata": {},
   "source": [
    "## Even/odd, Prime\n",
    "\n",
    "1. Write a program that reads an integer from the user. Then your program should display a message indicating whether the integer is even or odd and if the number is a prime or a non-prime. "
   ]
  },
  {
   "cell_type": "code",
   "execution_count": 2,
   "metadata": {
    "code_folding": []
   },
   "outputs": [
    {
     "name": "stdout",
     "output_type": "stream",
     "text": [
      "Check this integer: 7\n",
      "7 is an odd integer.\n",
      "7 is a prime number.\n"
     ]
    }
   ],
   "source": [
    "def interger_check(num):\n",
    "    if num % 2 == 0:\n",
    "        print(num, \"is an even interger.\")\n",
    "    else:\n",
    "        print(num, \"is an odd integer.\") \n",
    "    if num <= 3:\n",
    "        print(num, \"is a prime number.\")\n",
    "    else:\n",
    "        for i in range(2,num):\n",
    "            if num % i == 0:\n",
    "                print(num, \"is not a prime number.\")\n",
    "                break\n",
    "        print(num, \"is a prime number.\")\n",
    "\n",
    "num = int(input(\"Check this integer: \"))\n",
    "interger_check(num)"
   ]
  },
  {
   "cell_type": "markdown",
   "metadata": {},
   "source": [
    "## Univariate quadratic function"
   ]
  },
  {
   "cell_type": "markdown",
   "metadata": {},
   "source": [
    "A univariate quadratic function has the form $f(x)=ax^2+bx+c$, where a, b and c are constants, and a is non-zero. The roots of a quadratic function can be found by finding the values of x that satisfy the quadratic equation $ax^2 +bx+c=0$. Aquadratic function may have 0, 1, or 2 real roots. These roots can be computed using the quadratic formula, shown below:"
   ]
  },
  {
   "cell_type": "markdown",
   "metadata": {},
   "source": [
    "$$\\boxed{root = \\frac {-b \\pm \\sqrt {b^2 - 4ac}} {2a} }$$"
   ]
  },
  {
   "cell_type": "markdown",
   "metadata": {},
   "source": [
    " The portion of the expression under the square root sign is called the discriminant. If the discriminant is negative then the quadratic equation does not have any real roots. If the discriminant is 0, then the equation has one real root. Otherwise, the equation has two real roots, and the expression must be evaluated twice, once using a plus sign, and once using a minus sign, when computing the numerator. Write a program that computes the real roots of a quadratic function. Your program should begin by prompting the user for the values of a, b and c. Then it should display a message indicating the number of real roots, along with the values of the real roots(if any).\n",
    "    "
   ]
  },
  {
   "cell_type": "code",
   "execution_count": 3,
   "metadata": {},
   "outputs": [],
   "source": [
    "import math"
   ]
  },
  {
   "cell_type": "code",
   "execution_count": 4,
   "metadata": {},
   "outputs": [],
   "source": [
    "a = 1\n",
    "b = 2\n",
    "c = 1"
   ]
  },
  {
   "cell_type": "code",
   "execution_count": 5,
   "metadata": {},
   "outputs": [
    {
     "data": {
      "text/plain": [
       "0.0"
      ]
     },
     "execution_count": 5,
     "metadata": {},
     "output_type": "execute_result"
    }
   ],
   "source": [
    "d = math.sqrt(b**2 - 4*a*c)\n",
    "d"
   ]
  },
  {
   "cell_type": "code",
   "execution_count": 6,
   "metadata": {},
   "outputs": [
    {
     "name": "stdout",
     "output_type": "stream",
     "text": [
      "-1.0\n"
     ]
    }
   ],
   "source": [
    "root1 = (-b + d)/2*a\n",
    "print(root1)"
   ]
  },
  {
   "cell_type": "code",
   "execution_count": 7,
   "metadata": {},
   "outputs": [
    {
     "name": "stdout",
     "output_type": "stream",
     "text": [
      "-1.0\n"
     ]
    }
   ],
   "source": [
    "root2 = (-b - d)/2*a\n",
    "print(root2)"
   ]
  },
  {
   "cell_type": "markdown",
   "metadata": {},
   "source": [
    "## Average"
   ]
  },
  {
   "cell_type": "markdown",
   "metadata": {},
   "source": [
    "In this exercise, you will create a program that computes the average of a collection of values entered by the user. The user will enter 0 as a sentinel value to indicate that no further values will be provided. Your program should display an appropriate error message if the first value entered by the user is 0."
   ]
  },
  {
   "cell_type": "markdown",
   "metadata": {},
   "source": [
    "1. loop(while true) to do input until o to exit\n",
    "2. change input data type\n",
    "3. sum the values (for i in ...)"
   ]
  },
  {
   "cell_type": "code",
   "execution_count": 8,
   "metadata": {},
   "outputs": [
    {
     "name": "stdout",
     "output_type": "stream",
     "text": [
      "If you want to stop, give 0. Given values: 9\n",
      "If you want to stop, give 0. Given values: 9\n",
      "If you want to stop, give 0. Given values: 0\n",
      "9.0\n"
     ]
    }
   ],
   "source": [
    "def avg_values(num_list):\n",
    "    sum_values = 0 \n",
    "    # change data type from string to float\n",
    "    new_num_list = [float(items) for items in num_list]    \n",
    "    for i in range(0,len(new_num_list)):    \n",
    "        sum_values += new_num_list[i]  \n",
    "    avg_values = sum_values/(len(new_num_list)-1) \n",
    "    return avg_values\n",
    "\n",
    "\n",
    "def avg_func():\n",
    "    num = input(\"If you want to stop, give 0. Given values: \")\n",
    "    if num[0] == '0':\n",
    "        print(\"First number you give, can not be 0.\") \n",
    "        while True:\n",
    "            num = input(\"If you want to stop, give 0. Given values: \")\n",
    "            num_list.append(num)\n",
    "            if num == '0':\n",
    "                num_list\n",
    "                break\n",
    "    else: \n",
    "        while True:\n",
    "            num = input(\"If you want to stop, give 0. Given values: \")\n",
    "            num_list.append(num)\n",
    "            if num == '0':\n",
    "                break\n",
    "\n",
    "    return avg_values(num_list)\n",
    "\n",
    "num_list = []\n",
    "print(avg_func())"
   ]
  },
  {
   "cell_type": "code",
   "execution_count": null,
   "metadata": {},
   "outputs": [],
   "source": []
  },
  {
   "cell_type": "markdown",
   "metadata": {},
   "source": [
    "## Convert temperature"
   ]
  },
  {
   "cell_type": "markdown",
   "metadata": {},
   "source": [
    "Write a program that displays a temperature conversion table for degrees Celsius and degrees Fahrenheit. The table should include rows for all temperatures between 0 and 100 degrees Celsius which are multiples of 10 degrees Celsius. Include appropriate headings on your columns. The formula for converting between degrees Celsius and degrees Fahrenheit can be found on the internet."
   ]
  },
  {
   "cell_type": "markdown",
   "metadata": {},
   "source": [
    "* list/dictionary - tables\n",
    "1. dictionary: <br /> \n",
    "    key - degrees Celsius (loop range 1-10) <br />\n",
    "    value - degrees Fahrenheit (in a list, and give values) <br/> \n",
    "    formula: (30°C x 1.8) + 32 = 86°F\n",
    "2. create a dictionary to change temp_table to dataframe <br />\n",
    "3. dictionary to table (pandas)"
   ]
  },
  {
   "cell_type": "code",
   "execution_count": 9,
   "metadata": {},
   "outputs": [
    {
     "name": "stdout",
     "output_type": "stream",
     "text": [
      "{0: 32, 10: 50, 20: 68, 30: 86, 40: 104, 50: 122, 60: 140, 70: 158, 80: 176, 90: 194, 100: 212}\n"
     ]
    }
   ],
   "source": [
    "def cf():\n",
    "    celsius = [0,10,20,30,40,50,60,70,80,90,100]\n",
    "    # create key according to a list\n",
    "    temp_table = dict((el,0)for el in celsius)\n",
    "    # gives values with a loop of key\n",
    "    for key in dict.keys(temp_table):\n",
    "        temp_table[key] = int((key * 1.8) + 32)\n",
    "    print(temp_table)\n",
    "\n",
    "cf()"
   ]
  },
  {
   "cell_type": "code",
   "execution_count": 10,
   "metadata": {},
   "outputs": [
    {
     "name": "stdout",
     "output_type": "stream",
     "text": [
      "{0: 32, 10: 50, 20: 68, 30: 86, 40: 104, 50: 122, 60: 140, 70: 158, 80: 176, 90: 194, 100: 212}\n"
     ]
    }
   ],
   "source": [
    "celsius = [0,10,20,30,40,50,60,70,80,90,100]\n",
    "# create key according to a list\n",
    "temp_table = dict((el,0)for el in celsius)\n",
    "# gives values with a loop of key\n",
    "for key in dict.keys(temp_table):\n",
    "    temp_table[key] = int((key * 1.8) + 32)\n",
    "print(temp_table)"
   ]
  },
  {
   "cell_type": "code",
   "execution_count": 11,
   "metadata": {},
   "outputs": [
    {
     "data": {
      "text/plain": [
       "[32, 50, 68, 86, 104, 122, 140, 158, 176, 194, 212]"
      ]
     },
     "execution_count": 11,
     "metadata": {},
     "output_type": "execute_result"
    }
   ],
   "source": [
    "#create a dictionary for dataframe column names and insert values to each\n",
    "celsius = [0,10,20,30,40,50,60,70,80,90,100]\n",
    "fahrenheit = list(temp_table.values())\n",
    "fahrenheit"
   ]
  },
  {
   "cell_type": "code",
   "execution_count": 12,
   "metadata": {},
   "outputs": [
    {
     "data": {
      "text/plain": [
       "{'celsius': [0, 10, 20, 30, 40, 50, 60, 70, 80, 90, 100],\n",
       " 'fahrenheit': [32, 50, 68, 86, 104, 122, 140, 158, 176, 194, 212]}"
      ]
     },
     "execution_count": 12,
     "metadata": {},
     "output_type": "execute_result"
    }
   ],
   "source": [
    "col_temp_table = {'celsius':celsius,'fahrenheit':fahrenheit}\n",
    "col_temp_table"
   ]
  },
  {
   "cell_type": "code",
   "execution_count": 13,
   "metadata": {},
   "outputs": [
    {
     "data": {
      "text/html": [
       "<div>\n",
       "<style scoped>\n",
       "    .dataframe tbody tr th:only-of-type {\n",
       "        vertical-align: middle;\n",
       "    }\n",
       "\n",
       "    .dataframe tbody tr th {\n",
       "        vertical-align: top;\n",
       "    }\n",
       "\n",
       "    .dataframe thead th {\n",
       "        text-align: right;\n",
       "    }\n",
       "</style>\n",
       "<table border=\"1\" class=\"dataframe\">\n",
       "  <thead>\n",
       "    <tr style=\"text-align: right;\">\n",
       "      <th></th>\n",
       "      <th>celsius</th>\n",
       "      <th>fahrenheit</th>\n",
       "    </tr>\n",
       "  </thead>\n",
       "  <tbody>\n",
       "    <tr>\n",
       "      <th>0</th>\n",
       "      <td>0</td>\n",
       "      <td>32</td>\n",
       "    </tr>\n",
       "    <tr>\n",
       "      <th>1</th>\n",
       "      <td>10</td>\n",
       "      <td>50</td>\n",
       "    </tr>\n",
       "    <tr>\n",
       "      <th>2</th>\n",
       "      <td>20</td>\n",
       "      <td>68</td>\n",
       "    </tr>\n",
       "    <tr>\n",
       "      <th>3</th>\n",
       "      <td>30</td>\n",
       "      <td>86</td>\n",
       "    </tr>\n",
       "    <tr>\n",
       "      <th>4</th>\n",
       "      <td>40</td>\n",
       "      <td>104</td>\n",
       "    </tr>\n",
       "    <tr>\n",
       "      <th>5</th>\n",
       "      <td>50</td>\n",
       "      <td>122</td>\n",
       "    </tr>\n",
       "    <tr>\n",
       "      <th>6</th>\n",
       "      <td>60</td>\n",
       "      <td>140</td>\n",
       "    </tr>\n",
       "    <tr>\n",
       "      <th>7</th>\n",
       "      <td>70</td>\n",
       "      <td>158</td>\n",
       "    </tr>\n",
       "    <tr>\n",
       "      <th>8</th>\n",
       "      <td>80</td>\n",
       "      <td>176</td>\n",
       "    </tr>\n",
       "    <tr>\n",
       "      <th>9</th>\n",
       "      <td>90</td>\n",
       "      <td>194</td>\n",
       "    </tr>\n",
       "    <tr>\n",
       "      <th>10</th>\n",
       "      <td>100</td>\n",
       "      <td>212</td>\n",
       "    </tr>\n",
       "  </tbody>\n",
       "</table>\n",
       "</div>"
      ],
      "text/plain": [
       "    celsius  fahrenheit\n",
       "0         0          32\n",
       "1        10          50\n",
       "2        20          68\n",
       "3        30          86\n",
       "4        40         104\n",
       "5        50         122\n",
       "6        60         140\n",
       "7        70         158\n",
       "8        80         176\n",
       "9        90         194\n",
       "10      100         212"
      ]
     },
     "execution_count": 13,
     "metadata": {},
     "output_type": "execute_result"
    }
   ],
   "source": [
    "df_cf = pd.DataFrame.from_dict(col_temp_table)\n",
    "df_cf"
   ]
  },
  {
   "cell_type": "code",
   "execution_count": 14,
   "metadata": {},
   "outputs": [
    {
     "data": {
      "text/plain": [
       "[32.0, 50.0, 68.0, 86.0, 104.0, 122.0, 140.0, 158.0, 176.0, 194.0, 212.0]"
      ]
     },
     "execution_count": 14,
     "metadata": {},
     "output_type": "execute_result"
    }
   ],
   "source": [
    "f_degree = []\n",
    "for element in celsius:\n",
    "    f_degree.append((element*1.8)+32)\n",
    "f_degree"
   ]
  },
  {
   "cell_type": "code",
   "execution_count": 15,
   "metadata": {},
   "outputs": [
    {
     "data": {
      "text/plain": [
       "[32.0, 50.0, 68.0, 86.0, 104.0, 122.0, 140.0, 158.0, 176.0, 194.0, 212.0]"
      ]
     },
     "execution_count": 15,
     "metadata": {},
     "output_type": "execute_result"
    }
   ],
   "source": [
    "f_degree = [((element*1.8)+32) for element in celsius]\n",
    "f_degree"
   ]
  },
  {
   "cell_type": "code",
   "execution_count": 16,
   "metadata": {},
   "outputs": [
    {
     "data": {
      "text/html": [
       "<div>\n",
       "<style scoped>\n",
       "    .dataframe tbody tr th:only-of-type {\n",
       "        vertical-align: middle;\n",
       "    }\n",
       "\n",
       "    .dataframe tbody tr th {\n",
       "        vertical-align: top;\n",
       "    }\n",
       "\n",
       "    .dataframe thead th {\n",
       "        text-align: right;\n",
       "    }\n",
       "</style>\n",
       "<table border=\"1\" class=\"dataframe\">\n",
       "  <thead>\n",
       "    <tr style=\"text-align: right;\">\n",
       "      <th></th>\n",
       "      <th>celsius</th>\n",
       "      <th>fahrenheit</th>\n",
       "    </tr>\n",
       "  </thead>\n",
       "  <tbody>\n",
       "    <tr>\n",
       "      <th>0</th>\n",
       "      <td>0</td>\n",
       "      <td>32.0</td>\n",
       "    </tr>\n",
       "    <tr>\n",
       "      <th>1</th>\n",
       "      <td>10</td>\n",
       "      <td>50.0</td>\n",
       "    </tr>\n",
       "    <tr>\n",
       "      <th>2</th>\n",
       "      <td>20</td>\n",
       "      <td>68.0</td>\n",
       "    </tr>\n",
       "    <tr>\n",
       "      <th>3</th>\n",
       "      <td>30</td>\n",
       "      <td>86.0</td>\n",
       "    </tr>\n",
       "    <tr>\n",
       "      <th>4</th>\n",
       "      <td>40</td>\n",
       "      <td>104.0</td>\n",
       "    </tr>\n",
       "    <tr>\n",
       "      <th>5</th>\n",
       "      <td>50</td>\n",
       "      <td>122.0</td>\n",
       "    </tr>\n",
       "    <tr>\n",
       "      <th>6</th>\n",
       "      <td>60</td>\n",
       "      <td>140.0</td>\n",
       "    </tr>\n",
       "    <tr>\n",
       "      <th>7</th>\n",
       "      <td>70</td>\n",
       "      <td>158.0</td>\n",
       "    </tr>\n",
       "    <tr>\n",
       "      <th>8</th>\n",
       "      <td>80</td>\n",
       "      <td>176.0</td>\n",
       "    </tr>\n",
       "    <tr>\n",
       "      <th>9</th>\n",
       "      <td>90</td>\n",
       "      <td>194.0</td>\n",
       "    </tr>\n",
       "    <tr>\n",
       "      <th>10</th>\n",
       "      <td>100</td>\n",
       "      <td>212.0</td>\n",
       "    </tr>\n",
       "  </tbody>\n",
       "</table>\n",
       "</div>"
      ],
      "text/plain": [
       "    celsius  fahrenheit\n",
       "0         0        32.0\n",
       "1        10        50.0\n",
       "2        20        68.0\n",
       "3        30        86.0\n",
       "4        40       104.0\n",
       "5        50       122.0\n",
       "6        60       140.0\n",
       "7        70       158.0\n",
       "8        80       176.0\n",
       "9        90       194.0\n",
       "10      100       212.0"
      ]
     },
     "execution_count": 16,
     "metadata": {},
     "output_type": "execute_result"
    }
   ],
   "source": [
    "import pandas as pd\n",
    "from time import time\n",
    "\n",
    "def celsiu_to_fahrenheit():\n",
    "    # start = time()\n",
    "    celsius = [i for i in range(0,101,10)]   # -> celsius = [0,10,20,30,40,50,60,70,80,90,100]\n",
    "    fahrenheit = [(i * 1.8)+32 for i in celsius]\n",
    "    # print(time()-start)\n",
    "    return pd.DataFrame({'celsius':celsius,'fahrenheit':fahrenheit})\n",
    "\n",
    "celsiu_to_fahrenheit() "
   ]
  },
  {
   "cell_type": "markdown",
   "metadata": {},
   "source": [
    "**<font color=red>improvement of the code: </font>**\n",
    "1. less variable \n",
    "2. less loop(for) instead to be comprehension\n",
    "3. readable\n",
    "4. faster"
   ]
  },
  {
   "cell_type": "markdown",
   "metadata": {},
   "source": [
    "## Zoo entry fee"
   ]
  },
  {
   "cell_type": "markdown",
   "metadata": {},
   "source": [
    "A particular zoo determines the price of admission based on the age of the guest. Guests 2 years of age and less are admitted without charge. Children between 3 and 12 years of age cost $14.00. Seniors aged 65 years and over cost $18.00. Admission for all other guests is $23.00. Create a program that begins by reading the ages of all of the guests in a group from the user, with one age entered on each line. The user will enter a blank line to indicate that there are no more guests in the group. Then your program should display the admission cost for the group with an appropriate message. The cost should be displayed using two decimal places."
   ]
  },
  {
   "cell_type": "code",
   "execution_count": 126,
   "metadata": {},
   "outputs": [
    {
     "name": "stdout",
     "output_type": "stream",
     "text": [
      "Age in your group: 0\n",
      "Age in your group: 1\n",
      "Age in your group: 23\n",
      "Age in your group: 45\n",
      "Age in your group: 89\n",
      "Age in your group:  \n",
      "Ages      qty       pu cost   t cost    \n",
      "0-2        2.        $0        $0.00     \n",
      "3-12       0.        $14.00    $0.00     \n",
      "13-64      2.        $23.00    $46.00    \n",
      "+65        1.        $18.00    $18.00    \n",
      "\n",
      "\n",
      "\n",
      "\n",
      "total ------------------------ $64.0\n"
     ]
    }
   ],
   "source": [
    "def f_usd(price):\n",
    "    return \"$\" + str(format(price, \".2f\"))\n",
    "def zoo_entry_fee():\n",
    "    qty=[0,0,0,0]\n",
    "    t_cost = [0,0,0,0]\n",
    "    age_input = input(\"Age in your group: \")\n",
    "    while age_input != '' and not age_input.isspace():\n",
    "        if age_input.isnumeric(): \n",
    "            age=int(age_input)\n",
    "            if age<=2:\n",
    "                qty[0]+=1\n",
    "            elif age<=12:\n",
    "                qty[1]+=1\n",
    "                t_cost[1]+=14.0\n",
    "            elif age<=64:\n",
    "                qty[2]+=1\n",
    "                t_cost[2]+=23.0\n",
    "            else:\n",
    "                qty[3]+=1\n",
    "                t_cost[3]+=18.0\n",
    "        age_input = input(\"Age in your group: \")\n",
    "            \n",
    "    print(f'{\"Ages\":10}{\"qty\":10}{\"pu cost\":10}{\"t cost\":10}')\n",
    "    print(f'{\"0-2\":11}{str(qty[0])+\".\":10}{\"$0\":10}{f_usd(t_cost[0]):10}')\n",
    "    print(f'{\"3-12\":11}{str(qty[1])+\".\":10}{\"$14.00\":10}{f_usd(t_cost[1]):10}')\n",
    "    print(f'{\"13-64\":11}{str(qty[2])+\".\":10}{\"$23.00\":10}{f_usd(t_cost[2]):10}')\n",
    "    print(f'{\"+65\":11}{str(qty[3])+\".\":10}{\"$18.00\":10}{f_usd(t_cost[3]):10}')\n",
    "    print(\"\\n\\n\\n\")\n",
    "    print(r\"total ------------------------\",\"$\"+str(sum(t_cost)))\n",
    "\n",
    "zoo_entry_fee()"
   ]
  },
  {
   "cell_type": "code",
   "execution_count": 132,
   "metadata": {},
   "outputs": [
    {
     "name": "stdout",
     "output_type": "stream",
     "text": [
      "Age in your group: -1\n",
      "Age in your group: sd\n",
      "Age in your group: /\n",
      "Age in your group: 2\n",
      "Age in your group: 34\n",
      "Age in your group: 29\n",
      "Age in your group: 56\n",
      "Age in your group: 00\n",
      "Age in your group: 89\n",
      "Age in your group:  \n",
      "Ages      qty       pu cost   t cost    \n",
      "0-2        2.        $0        $0.00     \n",
      "3-12       0.        $14.00    $0.00     \n",
      "13-64      3.        $23.00    $69.00    \n",
      "+65        1.        $18.00    $18.00    \n",
      "\n",
      "\n",
      "\n",
      "\n",
      "total ------------------------ $87.00\n"
     ]
    }
   ],
   "source": [
    "def zoo_entry_fee():\n",
    "    qty, t_cost=[0,0,0,0],[0,0,0,0]\n",
    "    age_input = input(\"Age in your group: \")\n",
    "    while age_input != '' and not age_input.isspace(): #while exit condition\n",
    "        if age_input.isnumeric(): #check if input is integer\n",
    "            age=int(age_input)\n",
    "            if age<=2: #each input belongs to one condition and then update qty and entre fee\n",
    "                qty[0]+=1\n",
    "            elif age<=12:\n",
    "                qty[1]+=1\n",
    "                t_cost[1]+=14.0\n",
    "            elif age<=64:\n",
    "                qty[2]+=1\n",
    "                t_cost[2]+=23.0\n",
    "            else:\n",
    "                qty[3]+=1\n",
    "                t_cost[3]+=18.0\n",
    "        age_input = input(\"Next person: \")\n",
    "    \n",
    "    # format output, qty with \".\", price with 2 decimal\n",
    "    print(f'{\"Ages\":10}{\"qty\":10}{\"pu cost\":10}{\"t cost\":10}')\n",
    "    print(f'{\"0-2\":11}{str(qty[0])+\".\":10}{\"$0\":10}{(\"$\" + str(format(t_cost[0], \".2f\"))):10}')\n",
    "    print(f'{\"3-12\":11}{str(qty[1])+\".\":10}{\"$14.00\":10}{(\"$\" + str(format(t_cost[1], \".2f\"))):10}')\n",
    "    print(f'{\"13-64\":11}{str(qty[2])+\".\":10}{\"$23.00\":10}{(\"$\" + str(format(t_cost[2], \".2f\"))):10}')\n",
    "    print(f'{\"+65\":11}{str(qty[3])+\".\":10}{\"$18.00\":10}{(\"$\" + str(format(t_cost[3], \".2f\"))):10}')\n",
    "    print(\"\\n\\n\\n\")\n",
    "    print(r\"total ------------------------\",\"$\"+str(format(sum(t_cost),\".2f\")))\n",
    "\n",
    "zoo_entry_fee()"
   ]
  },
  {
   "cell_type": "code",
   "execution_count": 113,
   "metadata": {},
   "outputs": [
    {
     "name": "stdout",
     "output_type": "stream",
     "text": [
      "Age of the first person: -1\n",
      "Next person: er\n",
      "Next person: 45\n",
      "Next person: 2\n",
      "Next person: 78\n",
      "Next person:      \n",
      "Ages      qty       pu cost   t cost    \n",
      "0-2        1.        $0.00     $0.00     \n",
      "3-12       0.        $14.00    $0.00     \n",
      "12-65      1.        $23.00    $23.00    \n",
      "+65        1.        $18.00    $18.00    \n",
      "\n",
      "\n",
      "\n",
      "\n",
      "total ------------------------ $41.00\n",
      "7.266541957855225\n"
     ]
    }
   ],
   "source": [
    "def f_usd(price):\n",
    "    return \"$\" + str(format(price, \".2f\"))\n",
    "\n",
    "def zoo_entry_fee():\n",
    "    current_fees = {\n",
    "        0: {\"name\": \"0-2\", \"price\": 0, \"qty\": 0, \"t_cost\": 0},\n",
    "        1: {\"name\": \"3-12\", \"price\": 14.0, \"qty\": 0, \"t_cost\": 0},\n",
    "        2: {\"name\": \"12-65\", \"price\": 23.0, \"qty\": 0, \"t_cost\": 0},\n",
    "        3: {\"name\": \"+65\", \"price\": 18.0, \"qty\": 0, \"t_cost\": 0}\n",
    "    }\n",
    "    total = 0\n",
    "    age_input = input(\"Age of the first person: \")\n",
    "    while age_input != \"\" and not age_input.isspace():\n",
    "        if age_input.isnumeric():\n",
    "            age = int(age_input)\n",
    "            if age <= 2:\n",
    "                current_fees[0][\"qty\"] += 1\n",
    "            elif age <= 12:\n",
    "                current_fees[1][\"qty\"] += 1\n",
    "                current_fees[1][\"t_cost\"] += current_fees[1][\"price\"]\n",
    "                total += current_fees[1][\"price\"]\n",
    "            elif age <= 64:\n",
    "                current_fees[2][\"qty\"] += 1\n",
    "                current_fees[2][\"t_cost\"] += current_fees[2][\"price\"]\n",
    "                total += current_fees[2][\"price\"]\n",
    "            else:\n",
    "                current_fees[3][\"qty\"] += 1\n",
    "                current_fees[3][\"t_cost\"] += current_fees[3][\"price\"]\n",
    "                total += current_fees[3][\"price\"]\n",
    "        age_input = input(\"Next person: \")\n",
    "\n",
    "    print(f'{\"Ages\":10}{\"qty\":10}{\"pu cost\":10}{\"t cost\":10}')\n",
    "    for f in current_fees:\n",
    "        current_fee = current_fees[f]\n",
    "        print(\n",
    "            f'{current_fee[\"name\"]:11}{str(current_fee[\"qty\"])+\".\":10}{f_usd(current_fee[\"price\"]):10}{f_usd(current_fee[\"t_cost\"]):10}'\n",
    "        )\n",
    "    print(\"\\n\\n\\n\")\n",
    "    print(r\"total ------------------------\", f_usd(total))\n",
    "\n",
    "zoo_entry_fee()\n"
   ]
  },
  {
   "cell_type": "code",
   "execution_count": null,
   "metadata": {},
   "outputs": [],
   "source": []
  },
  {
   "cell_type": "code",
   "execution_count": null,
   "metadata": {},
   "outputs": [],
   "source": []
  },
  {
   "cell_type": "markdown",
   "metadata": {},
   "source": [
    "## Triangle"
   ]
  },
  {
   "cell_type": "markdown",
   "metadata": {},
   "source": [
    "Write a function that takes the lengths of the two shorter sides of a right triangle as its parameters. Return the hypotenuse of the triangle, computed using the Pythagorean theorem, as the function’s result. Include inputs that read the lengths of the shorter sides of a right triangle from the user, use your function to compute the length of the hypotenuse, and display the result."
   ]
  },
  {
   "cell_type": "markdown",
   "metadata": {},
   "source": [
    "$$hypotenuse= \\sqrt {a^2 + b^2}$$"
   ]
  },
  {
   "cell_type": "code",
   "execution_count": 137,
   "metadata": {},
   "outputs": [
    {
     "name": "stdout",
     "output_type": "stream",
     "text": [
      "In a right triangle, \n",
      "one short side: 3\n",
      "the other short side: 4\n",
      "The hypotenuse is5.0\n"
     ]
    }
   ],
   "source": [
    "import math\n",
    "def hypotenuse():\n",
    "    print(\"In a right triangle, \")\n",
    "    a = float(input(\"one short side: \"))\n",
    "    b = float(input(\"the other short side: \"))\n",
    "    c = round(math.sqrt(a**2 + b**2),2)\n",
    "    print(\"The hypotenuse is \" + str(c))\n",
    "\n",
    "hypotenuse()"
   ]
  },
  {
   "cell_type": "markdown",
   "metadata": {},
   "source": [
    "## Shipping charge"
   ]
  },
  {
   "cell_type": "markdown",
   "metadata": {},
   "source": [
    "An online retailer provides express shipping for many of its items at a rate of $10.95 for the first item, and $2.95 for each subsequent item. Write a function that takes the number of items in the order as its only parameter. Return the shipping charge for the order as the function’s result. Include user inputs that read the number of items purchased from the user and display the shipping charge."
   ]
  },
  {
   "cell_type": "code",
   "execution_count": 140,
   "metadata": {},
   "outputs": [
    {
     "name": "stdout",
     "output_type": "stream",
     "text": [
      "Shipping for how many items? 5\n",
      "There are 5 items need to be shipped, and the shipping charge is 22.75.\n"
     ]
    }
   ],
   "source": [
    "def shipping_charge(num_items):\n",
    "    charge = 10.95 + 2.95 * (num_items - 1)\n",
    "    print(f\"There are {num_items} items need to be shipped, and the shipping charge is {charge}.\")\n",
    "\n",
    "num_items = int(input(\"Shipping for how many items? \"))\n",
    "shipping_charge(num_items)"
   ]
  },
  {
   "cell_type": "markdown",
   "metadata": {},
   "source": [
    "## Password"
   ]
  },
  {
   "cell_type": "markdown",
   "metadata": {},
   "source": [
    "In this exercise, you will write a function that determines whether or not a password is good. We will define a good password to be one that is at least 8 characters long and contains at least one uppercase letter, at least one lowercase letter, and at least one number. Your function should return true if the password passed to it as its only parameter is good. Otherwise, it should return false. "
   ]
  },
  {
   "cell_type": "code",
   "execution_count": 138,
   "metadata": {},
   "outputs": [
    {
     "name": "stdout",
     "output_type": "stream",
     "text": [
      "C\n",
      "K\n",
      "Strong Password\n",
      "{'length': True, 'digits': True, 'uppers': True, 'lowers': True, 'digit-found': True, 'uppercase-found': True, 'lowercase-found': True}\n"
     ]
    }
   ],
   "source": [
    "# strong password: length, digits, uppercase, lowercase\n",
    "password = \"k12asCKdc\"\n",
    "\n",
    "result= {}\n",
    "\n",
    "if len(password) >= 8:\n",
    "    result[\"length\"] = True\n",
    "else:\n",
    "    result[\"length\"] = False\n",
    "\n",
    "# .isdigit() -- letters and numbers\n",
    "digit = False\n",
    "for i in password:\n",
    "    if i.isdigit():\n",
    "        digit = True\n",
    "        # add key and values in result, but only it will show up when digit = True, when it's not true, there is no digits key in result dictionary\n",
    "        result[\"digits\"] = digit\n",
    "# show digits as key, and digit as value in dictinary\n",
    "# result[\"digits\"] = digit\n",
    "\n",
    "uppercase = False\n",
    "for i in password:\n",
    "    if i.isupper():\n",
    "        print(i)\n",
    "        uppercase = True\n",
    "result[\"uppers\"] = uppercase\n",
    "\n",
    "lowercase = False\n",
    "for i in password:\n",
    "    if i.islower():\n",
    "        lowercase = True\n",
    "result[\"lowers\"] = lowercase\n",
    "\n",
    "one_digit = False\n",
    "for key, value in result.items():\n",
    "    if \"digits\" in key and value:\n",
    "        one_digit = True\n",
    "result[\"digit-found\"] = one_digit\n",
    "\n",
    "one_uppercase = False\n",
    "for key, value in result.items():\n",
    "    if \"uppers\" in key and value:\n",
    "        one_uppercase = True\n",
    "result[\"uppercase-found\"] = one_uppercase\n",
    "\n",
    "one_lowercase = False\n",
    "for key, value in result.items():\n",
    "    if \"lower\" in key and value:\n",
    "        one_lowercase = True\n",
    "result[\"lowercase-found\"] = one_lowercase\n",
    "\n",
    "if False in result.values():\n",
    "    print(\"Weak Password\")\n",
    "else:\n",
    "    print(\"Strong Password\")\n",
    "\n",
    "print(result)\n",
    "\n",
    "\n"
   ]
  },
  {
   "cell_type": "code",
   "execution_count": null,
   "metadata": {},
   "outputs": [],
   "source": []
  }
 ],
 "metadata": {
  "kernelspec": {
   "display_name": "Python 3",
   "language": "python",
   "name": "python3"
  },
  "language_info": {
   "codemirror_mode": {
    "name": "ipython",
    "version": 3
   },
   "file_extension": ".py",
   "mimetype": "text/x-python",
   "name": "python",
   "nbconvert_exporter": "python",
   "pygments_lexer": "ipython3",
   "version": "3.8.5"
  },
  "toc": {
   "base_numbering": 1,
   "nav_menu": {},
   "number_sections": true,
   "sideBar": true,
   "skip_h1_title": false,
   "title_cell": "Table of Contents",
   "title_sidebar": "Contents",
   "toc_cell": false,
   "toc_position": {},
   "toc_section_display": true,
   "toc_window_display": false
  },
  "vscode": {
   "interpreter": {
    "hash": "aee8b7b246df8f9039afb4144a1f6fd8d2ca17a180786b69acc140d282b71a49"
   }
  }
 },
 "nbformat": 4,
 "nbformat_minor": 2
}
